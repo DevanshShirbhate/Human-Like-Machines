{
 "cells": [
  {
   "cell_type": "markdown",
   "id": "725ad66a",
   "metadata": {},
   "source": [
    "# Import Section"
   ]
  },
  {
   "cell_type": "code",
   "execution_count": null,
   "id": "f15029d8",
   "metadata": {},
   "outputs": [],
   "source": [
    "import pandas as pd\n",
    "import numpy as np\n",
    "import seaborn as sns\n",
    "import matplotlib.pyplot as plt\n",
    "from sklearn import preprocessing\n",
    "from sklearn.model_selection import train_test_split\n",
    "from sklearn.feature_extraction.text import CountVectorizer\n",
    "from sklearn.naive_bayes import MultinomialNB"
   ]
  },
  {
   "cell_type": "markdown",
   "id": "518c3773",
   "metadata": {},
   "source": [
    "# Data gathering"
   ]
  },
  {
   "cell_type": "code",
   "execution_count": null,
   "id": "27bd4762",
   "metadata": {},
   "outputs": [],
   "source": [
    "df=pd.read_csv(\"spam.csv\")"
   ]
  },
  {
   "cell_type": "code",
   "execution_count": null,
   "id": "73bbd99c",
   "metadata": {},
   "outputs": [],
   "source": [
    "df.head()"
   ]
  },
  {
   "cell_type": "code",
   "execution_count": null,
   "id": "325b0d39",
   "metadata": {},
   "outputs": [],
   "source": [
    "df.describe()"
   ]
  },
  {
   "cell_type": "code",
   "execution_count": null,
   "id": "8c8bd242",
   "metadata": {},
   "outputs": [],
   "source": [
    "X = df.Message\n",
    "y = df.Category\n",
    "df.isna().sum()"
   ]
  },
  {
   "cell_type": "markdown",
   "id": "93e2a7a8",
   "metadata": {},
   "source": [
    "# Data convertion to machine readable format"
   ]
  },
  {
   "cell_type": "code",
   "execution_count": null,
   "id": "d6c8c0f8",
   "metadata": {},
   "outputs": [],
   "source": [
    "label_encoder = preprocessing.LabelEncoder()\n",
    "df['Category']= label_encoder.fit_transform(df['Category'])"
   ]
  },
  {
   "cell_type": "markdown",
   "id": "6b1fe207",
   "metadata": {},
   "source": [
    "# Train and Test of data"
   ]
  },
  {
   "cell_type": "code",
   "execution_count": null,
   "id": "2436d671",
   "metadata": {},
   "outputs": [],
   "source": [
    "train_X, test_X, train_y, test_y = train_test_split(X, y, test_size=0.1)\n",
    "train_X.shape, test_X.shape, train_y.shape, test_y.shape"
   ]
  },
  {
   "cell_type": "markdown",
   "id": "16120851",
   "metadata": {},
   "source": [
    "# Data Input"
   ]
  },
  {
   "cell_type": "code",
   "execution_count": null,
   "id": "360703ea",
   "metadata": {},
   "outputs": [],
   "source": [
    "string = ['URGENT! You have won a 1 week FREE membership in our £100,000 Prize Jackpot! Txt the word: CLAIM to No: 81010 T&C www.dbuk.net LCCLTD POBOX 4403LDNW1A7RW18']"
   ]
  },
  {
   "cell_type": "markdown",
   "id": "3993630a",
   "metadata": {},
   "source": [
    "# Tokenizing the Input String"
   ]
  },
  {
   "cell_type": "code",
   "execution_count": null,
   "id": "2942712b",
   "metadata": {},
   "outputs": [],
   "source": [
    "model = CountVectorizer()\n",
    "train_count = model.fit_transform(train_X)\n",
    "test_count = model.transform(string)"
   ]
  },
  {
   "cell_type": "markdown",
   "id": "738dfc49",
   "metadata": {},
   "source": [
    "# Classification"
   ]
  },
  {
   "cell_type": "code",
   "execution_count": null,
   "id": "05706073",
   "metadata": {},
   "outputs": [],
   "source": [
    "clf = MultinomialNB()\n",
    "clf.fit(train_count, train_y)\n",
    "predictions = clf.predict(test_count)\n",
    "predictions"
   ]
  }
 ],
 "metadata": {
  "kernelspec": {
   "display_name": "Python 3 (ipykernel)",
   "language": "python",
   "name": "python3"
  },
  "language_info": {
   "codemirror_mode": {
    "name": "ipython",
    "version": 3
   },
   "file_extension": ".py",
   "mimetype": "text/x-python",
   "name": "python",
   "nbconvert_exporter": "python",
   "pygments_lexer": "ipython3",
   "version": "3.9.7"
  }
 },
 "nbformat": 4,
 "nbformat_minor": 5
}
